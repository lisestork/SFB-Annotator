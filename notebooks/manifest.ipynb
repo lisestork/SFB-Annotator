{
 "cells": [
  {
   "cell_type": "markdown",
   "metadata": {},
   "source": [
    "Generate IIIF `manifest.json` (version 2)\n",
    "==="
   ]
  },
  {
   "cell_type": "code",
   "execution_count": null,
   "metadata": {},
   "outputs": [],
   "source": [
    "import os\n",
    "import json\n",
    "import requests\n",
    "\n",
    "from jinja2 import Template"
   ]
  },
  {
   "cell_type": "markdown",
   "metadata": {},
   "source": [
    "### fetch image URLs from a JSON file"
   ]
  },
  {
   "cell_type": "code",
   "execution_count": null,
   "metadata": {},
   "outputs": [],
   "source": [
    "img_src=[]\n",
    "json_file = '../src/main/webapp/data/data-remote.json'\n",
    "with open(json_file, 'r') as fp:\n",
    "    for item in json.load(fp)['items']:\n",
    "        for url in item['item']:\n",
    "            img_src.append(url)"
   ]
  },
  {
   "cell_type": "code",
   "execution_count": null,
   "metadata": {},
   "outputs": [],
   "source": [
    "#img_src"
   ]
  },
  {
   "cell_type": "markdown",
   "metadata": {},
   "source": [
    "### fetch deposit metadata in JSON via REST API"
   ]
  },
  {
   "cell_type": "code",
   "execution_count": null,
   "metadata": {},
   "outputs": [],
   "source": [
    "dts_src = 'https://trng-repository.surfsara.nl/api/objects/deposit/900c341c1c10fff7'\n",
    "title = ''\n",
    "description = ''\n",
    "license = ''\n",
    "creator = ''\n",
    "with requests.get(dts_src) as req:\n",
    "    data = json.loads(req.text)['result']['metadata']['base']\n",
    "    title = data['title']\n",
    "    description = data['description']\n",
    "    license = data['rights'][0]['url']\n",
    "    creator = data['creator'][0]"
   ]
  },
  {
   "cell_type": "code",
   "execution_count": null,
   "metadata": {},
   "outputs": [],
   "source": [
    "#data"
   ]
  },
  {
   "cell_type": "markdown",
   "metadata": {},
   "source": [
    "### fetch git commit hash"
   ]
  },
  {
   "cell_type": "code",
   "execution_count": null,
   "metadata": {},
   "outputs": [],
   "source": [
    "cmd = 'git rev-parse HEAD'\n",
    "git_sha = os.popen(cmd).read().strip()"
   ]
  },
  {
   "cell_type": "markdown",
   "metadata": {},
   "source": [
    "### serialize `manifest.json`"
   ]
  },
  {
   "cell_type": "code",
   "execution_count": null,
   "metadata": {},
   "outputs": [],
   "source": [
    "template = \"\"\"{\n",
    "  {%- set base = img_src[0] %}\n",
    "  {%- set book_id = ':'.join(base.split(':')[:3]) %}\n",
    "  {%- set seq_id = book_id + '/sequence/default' %}\n",
    "  {#- set canvas dimensions #}\n",
    "  {%- set cvs_dim = dict(w=1024, h=768) %}\n",
    "  \"@context\": \"http://iiif.io/api/presentation/2/context.json\",\n",
    "  \"@id\": \"https://raw.githubusercontent.com/LINNAE-project/SFB-Annotator/{{ git_sha }}/data/manifest.json\",\n",
    "  \"@type\": \"sc:Manifest\",\n",
    "  \"label\": \"{{ title }}\",\n",
    "  \"metadata\": [\n",
    "    {\"label\": \"Author\", \"value\": \"{{ creator }}\"}\n",
    "  ],\n",
    "  \"description\": \"{{ description }}\",\n",
    "  \"logo\": {\n",
    "    \"@id\": \"https://zenodo.org/api/files/00000000-0000-0000-0000-000000000000/nlesc/logo.jpg\",\n",
    "    \"@type\": \"dctypes:Image\",\n",
    "    \"format\": \"image/jpeg\"\n",
    "  },\n",
    "  \"thumbnail\": {\n",
    "    \"@id\": \"{{ book_id + ':MMNAT01_PM_NNM001001033_001/full/!120,120/0/default.jpg' }}\",\n",
    "    \"@type\": \"dctypes:Image\",\n",
    "    \"format\": \"image/jpeg\",\n",
    "    \"service\": {\n",
    "      \"@context\": \"http://iiif.io/api/image/2/context.json\",\n",
    "      \"@id\": \"{{ book_id + ':MMNAT01_PM_NNM001001033_001' }}\",\n",
    "      \"profile\": \"http://iiif.io/api/image/2/level2.json\",\n",
    "      \"protocol\": \"http://iiif.io/api/image\"\n",
    "    }\n",
    "  },\n",
    "  \"within\": \"{{ dts_src }}\",\n",
    "  \"viewingDirection\": \"left-to-right\",\n",
    "  \"viewingHint\": \"paged\",\n",
    "  \"license\": \"{{ license }}\",\n",
    "  \"attribution\": \"{{ creator }}\",\n",
    "  \"sequences\": [\n",
    "    {\n",
    "      \"@id\": \"{{ book_id }}/sequence/default\",\n",
    "      \"@type\": \"sc:Sequence\",\n",
    "      \"label\": \"Default\",\n",
    "      \"startCanvas\": \"{{ book_id }}/canvas/p1\",\n",
    "      \"canvases\": [\n",
    "      {%- for url in img_src %}\n",
    "        {\n",
    "          {%- set page = url.split('/')[-5].split('_')[-1] | int() %}\n",
    "          {%- set img_id = '/'.join(url.split('/')[:-4]) %}\n",
    "          {#- some fixes required in URLs #}\n",
    "          {%- set cvs_id = book_id + '/canvas/p' + page|string() %}\n",
    "          {%- set thb_id = img_id + '/full/!120,120/0/default.jpg'|string() %}\n",
    "          {%- set res_id = img_id + '/full/max/0/default.jpg' %}\n",
    "          {%- set ano_id = img_id + '/annotation/p' + page|string() %}\n",
    "          {%- set srv_id = img_id %}\n",
    "          \"@id\": \"{{ cvs_id }}\",\n",
    "          \"@type\": \"sc:Canvas\",\n",
    "          \"label\": \"p. {{ page }}\",\n",
    "          \"width\": {{ cvs_dim['w'] }},\n",
    "          \"height\": {{ cvs_dim['h'] }},\n",
    "          \"images\": [\n",
    "            {\n",
    "              \"@id\": \"{{ ano_id }}\",\n",
    "              \"@type\": \"oa:Annotation\",\n",
    "              \"motivation\": \"sc:painting\",\n",
    "              \"on\": \"{{ cvs_id }}\",\n",
    "              \"resource\": {\n",
    "                \"@id\": \"{{ res_id }}\",\n",
    "                \"@type\": \"dctypes:Image\",\n",
    "                \"format\": \"image/jpeg\",\n",
    "                \"service\": {\n",
    "                  \"@context\": \"http://iiif.io/api/image/2/context.json\",\n",
    "                  \"@id\": \"{{ srv_id }}\",\n",
    "                  \"profile\": \"http://iiif.io/api/image/2/level2.json\",\n",
    "                  \"protocol\": \"http://iiif.io/api/image\"\n",
    "                }\n",
    "              },\n",
    "              \"thumbnail\": {\n",
    "                \"@id\" : \"{{ thb_id }}\",\n",
    "                \"@type\": \"dctypes:Image\",\n",
    "                \"format\": \"image/jpeg\",\n",
    "                \"service\": {\n",
    "                  \"@context\": \"http://iiif.io/api/image/2/context.json\",\n",
    "                  \"@id\": \"{{ img_id }}\",\n",
    "                  \"profile\": \"http://iiif.io/api/image/2/level2.json\",\n",
    "                  \"protocol\": \"http://iiif.io/api/image\"\n",
    "                }\n",
    "              }\n",
    "            }\n",
    "          ]\n",
    "        }\n",
    "        {{- \",\" if not loop.last -}}\n",
    "      {% endfor %}\n",
    "      ]\n",
    "    }\n",
    "  ]\n",
    "}\n",
    "\"\"\"\n",
    "j2_template = Template(template)"
   ]
  },
  {
   "cell_type": "code",
   "execution_count": null,
   "metadata": {},
   "outputs": [],
   "source": [
    "content = j2_template.render(git_sha=git_sha,\n",
    "                             title=title,\n",
    "                             description=description,\n",
    "                             dts_src=dts_src,\n",
    "                             license=license,\n",
    "                             creator=creator,\n",
    "                             img_src=img_src)"
   ]
  },
  {
   "cell_type": "code",
   "execution_count": null,
   "metadata": {},
   "outputs": [],
   "source": [
    "#print(content)"
   ]
  },
  {
   "cell_type": "code",
   "execution_count": null,
   "metadata": {},
   "outputs": [],
   "source": [
    "with open('manifest.json', 'w') as fh:\n",
    "    fh.write(content)"
   ]
  }
 ],
 "metadata": {
  "kernelspec": {
   "display_name": "Python 3",
   "language": "python",
   "name": "python3"
  },
  "language_info": {
   "codemirror_mode": {
    "name": "ipython",
    "version": 3
   },
   "file_extension": ".py",
   "mimetype": "text/x-python",
   "name": "python",
   "nbconvert_exporter": "python",
   "pygments_lexer": "ipython3",
   "version": "3.8.3"
  }
 },
 "nbformat": 4,
 "nbformat_minor": 4
}
